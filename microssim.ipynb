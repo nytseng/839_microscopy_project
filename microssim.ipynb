{
 "cells": [
  {
   "cell_type": "markdown",
   "id": "804dffd5-0c20-4fb8-9cf1-532b36169ae5",
   "metadata": {},
   "source": [
    "# tryig MicroSSIM\n",
    "https://github.com/juglab/MicroSSIM/blob/main/README.md"
   ]
  },
  {
   "cell_type": "code",
   "execution_count": 1,
   "id": "65185142-9832-41e3-be24-d818074a9734",
   "metadata": {},
   "outputs": [],
   "source": [
    "import numpy as np\n",
    "from microssim import MicroSSIM, micro_structural_similarity\n",
    "from skimage.metrics import structural_similarity\n",
    "import os\n",
    "import cv2\n",
    "\n",
    "# list the images in augmented data\n",
    "perc_train = 0.8\n",
    "N = 20\n",
    "\n",
    "dirpath = os.getcwd()\n",
    "data_path = os.path.join(dirpath, \"augmented_data\") # read some of the aumented data\n",
    "img_list = np.array([filename.split(\".jpg\")[0] for filename in os.listdir(data_path)])\n",
    "# split the data grouping by original image\n",
    "group_list = np.array([\"_\".join(filename.split(\"_\")[:2]) for filename in img_list])\n",
    "group_list_un = np.unique(group_list)\n",
    "num_train = np.round(len(group_list_un)*perc_train).astype('int')\n",
    "np.random.seed(seed=2)\n",
    "train_groups = np.random.choice(group_list_un, size=num_train, replace=False)\n",
    "train_idx =sum([list(np.where(group_list == val)[0]) for val in train_groups], [])\n",
    "test_idx = list(set(range(len(group_list))).difference(set(train_idx)))\n",
    "\n",
    "train_im_list = img_list[train_idx]\n",
    "test_im_list = img_list[test_idx]\n",
    "\n",
    "train_imgs = [cv2.imread(os.path.join(data_path, filename + \".jpg\"),0) for filename in train_im_list]\n",
    "test_imgs = [cv2.imread(os.path.join(data_path, filename + \".jpg\"),0) for filename in test_im_list]\n",
    "rng = np.random.default_rng(42)\n",
    "noise_imgs = rng.integers(0, 255, (N, 256, 256)) # stack of different images"
   ]
  },
  {
   "cell_type": "markdown",
   "id": "f9ca2207-8de9-4e08-b52a-5bf5d8311800",
   "metadata": {},
   "source": [
    "## fit with our em microscopy images\n",
    "I could not make it work, it needs a test set the same size as the trainig data\n",
    "The direct score does a pairwise comparison. I don't uderstand, because if there is no groucd truth against whish image sould we compare "
   ]
  },
  {
   "cell_type": "code",
   "execution_count": 2,
   "id": "ae612dae-933f-4eee-93b1-ffe3221111d7",
   "metadata": {},
   "outputs": [],
   "source": [
    "# fit with our em microscopy images\n",
    "# microssim = MicroSSIM()\n",
    "# microssim.fit(train_imgs) # fit the parameters"
   ]
  },
  {
   "cell_type": "markdown",
   "id": "2409576b-f40e-4bfe-8b92-4590288d4c9c",
   "metadata": {},
   "source": [
    "## train vs train\n",
    "should return 1"
   ]
  },
  {
   "cell_type": "code",
   "execution_count": 3,
   "id": "cd2f4e12-8ad5-4d54-b5a6-9301d6c35366",
   "metadata": {},
   "outputs": [
    {
     "name": "stdout",
     "output_type": "stream",
     "text": [
      "MicroSSIM: 1.0 (convenience function)\n"
     ]
    }
   ],
   "source": [
    "# train vs train\n",
    "result = micro_structural_similarity(train_imgs[1],  train_imgs[1])\n",
    "print(f\"MicroSSIM: {result} (convenience function)\")\n",
    "# should return 1"
   ]
  },
  {
   "cell_type": "code",
   "execution_count": 4,
   "id": "416dacba-6aa5-471a-a66b-d6839ebb3bb2",
   "metadata": {},
   "outputs": [
    {
     "name": "stdout",
     "output_type": "stream",
     "text": [
      "MicroSSIM: 0.12053936994894313 (convenience function)\n"
     ]
    }
   ],
   "source": [
    "# train vs noise \n",
    "# Should be bad\n",
    "result = micro_structural_similarity(train_imgs[1],  noise_imgs[1])\n",
    "print(f\"MicroSSIM: {result} (convenience function)\")"
   ]
  },
  {
   "cell_type": "code",
   "execution_count": 5,
   "id": "a363d59c-6359-47f5-a269-75c2dea02087",
   "metadata": {},
   "outputs": [
    {
     "name": "stdout",
     "output_type": "stream",
     "text": [
      "MicroSSIM: 0.2536503122150774 (convenience function)\n"
     ]
    }
   ],
   "source": [
    "# train vs noise \n",
    "# Should be better tan noise\n",
    "result = micro_structural_similarity(train_imgs[1],  test_imgs[1])\n",
    "print(f\"MicroSSIM: {result} (convenience function)\")"
   ]
  },
  {
   "cell_type": "code",
   "execution_count": null,
   "id": "63beb6c6-977d-41de-be43-9a4df4c9469f",
   "metadata": {},
   "outputs": [],
   "source": []
  }
 ],
 "metadata": {
  "kernelspec": {
   "display_name": "Python 3 (ipykernel)",
   "language": "python",
   "name": "python3"
  },
  "language_info": {
   "codemirror_mode": {
    "name": "ipython",
    "version": 3
   },
   "file_extension": ".py",
   "mimetype": "text/x-python",
   "name": "python",
   "nbconvert_exporter": "python",
   "pygments_lexer": "ipython3",
   "version": "3.12.4"
  }
 },
 "nbformat": 4,
 "nbformat_minor": 5
}
