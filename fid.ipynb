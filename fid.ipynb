{
 "cells": [
  {
   "cell_type": "markdown",
   "id": "bc4da655-7b06-4458-aeb9-45e7a7bcca71",
   "metadata": {},
   "source": [
    "# FID \n",
    "using code from https://machinelearningmastery.com/how-to-implement-the-frechet-inception-distance-fid-from-scratch/https://machinelearningmastery.com/how-to-implement-the-frechet-inception-distance-fid-from-scratch/"
   ]
  },
  {
   "cell_type": "code",
   "execution_count": 1,
   "id": "4b444a78-531c-4503-aac4-7422f6bcc193",
   "metadata": {},
   "outputs": [],
   "source": [
    "# example of calculating the frechet inception distance in Keras for cifar10\n",
    "import os\n",
    "# import cv2\n",
    "import numpy\n",
    "from numpy import cov\n",
    "from numpy import trace\n",
    "from numpy import iscomplexobj\n",
    "from numpy import asarray\n",
    "from numpy.random import shuffle\n",
    "from scipy.linalg import sqrtm\n",
    "from keras.applications.inception_v3 import InceptionV3\n",
    "from keras.applications.inception_v3 import preprocess_input\n",
    "from keras.datasets.mnist import load_data\n",
    "from skimage.transform import resize\n",
    "from keras.datasets import cifar10\n",
    "\n",
    "# scale an array of images to a new size\n",
    "def scale_images(images, new_shape):\n",
    "\timages_list = list()\n",
    "\tfor image in images:\n",
    "\t\t# resize with nearest neighbor interpolation\n",
    "\t\tnew_image = resize(image, new_shape, 0)\n",
    "\t\t# store\n",
    "\t\timages_list.append(new_image)\n",
    "\treturn asarray(images_list)\n",
    "\n",
    "# calculate frechet inception distance\n",
    "def calculate_fid(model, images1, images2):\n",
    "\t# calculate activations\n",
    "\tact1 = model.predict(images1)\n",
    "\tact2 = model.predict(images2)\n",
    "\t# calculate mean and covariance statistics\n",
    "\tmu1, sigma1 = act1.mean(axis=0), cov(act1, rowvar=False)\n",
    "\tmu2, sigma2 = act2.mean(axis=0), cov(act2, rowvar=False)\n",
    "\t# calculate sum squared difference between means\n",
    "\tssdiff = numpy.sum((mu1 - mu2)**2.0)\n",
    "\t# calculate sqrt of product between cov\n",
    "\tcovmean = sqrtm(sigma1.dot(sigma2))\n",
    "\t# check and correct imaginary numbers from sqrt\n",
    "\tif iscomplexobj(covmean):\n",
    "\t\tcovmean = covmean.real\n",
    "\t# calculate score\n",
    "\tfid = ssdiff + trace(sigma1 + sigma2 - 2.0 * covmean)\n",
    "\treturn fid"
   ]
  },
  {
   "cell_type": "code",
   "execution_count": 2,
   "id": "85cb0751-f3cb-4fb2-a43f-3cba275e8988",
   "metadata": {},
   "outputs": [],
   "source": [
    "# prepare the inception v3 model\n",
    "model = InceptionV3(include_top=False, pooling='avg', input_shape=(299,299,3))"
   ]
  },
  {
   "cell_type": "markdown",
   "id": "5aeec8a1-d72a-4c02-9350-186d25f2535c",
   "metadata": {},
   "source": [
    "## calculate FID for images in cifar10 as the example"
   ]
  },
  {
   "cell_type": "code",
   "execution_count": 3,
   "id": "16af0462-083b-458b-94e9-511c1fef9df2",
   "metadata": {},
   "outputs": [
    {
     "name": "stdout",
     "output_type": "stream",
     "text": [
      "Loaded (1000, 32, 32, 3) (1000, 32, 32, 3)\n",
      "Scaled (1000, 299, 299, 3) (1000, 299, 299, 3)\n"
     ]
    }
   ],
   "source": [
    "# load cifar10 images\n",
    "(images1, _), (images2, _) = cifar10.load_data()\n",
    "shuffle(images1)\n",
    "images1 = images1[:1000]\n",
    "images2 = images2[:1000]\n",
    "print('Loaded', images1.shape, images2.shape)\n",
    "# convert integer to floating point values\n",
    "images1 = images1.astype('float32')\n",
    "images2 = images2.astype('float32')\n",
    "# resize images\n",
    "images1 = scale_images(images1, (299,299,3))\n",
    "images2 = scale_images(images2, (299,299,3))\n",
    "print('Scaled', images1.shape, images2.shape)\n",
    "# pre-process images\n",
    "images1 = preprocess_input(images1)\n",
    "images2 = preprocess_input(images2)"
   ]
  },
  {
   "cell_type": "code",
   "execution_count": 4,
   "id": "0a26aba1-b45b-42be-8db2-ca93122d4789",
   "metadata": {},
   "outputs": [
    {
     "name": "stdout",
     "output_type": "stream",
     "text": [
      "32/32 [==============================] - 34s 1s/step\n",
      "32/32 [==============================] - 34s 1s/step\n",
      "FID: 49.042\n"
     ]
    }
   ],
   "source": [
    "# calculate fid\n",
    "fid = calculate_fid(model, images1, images2)\n",
    "print('FID: %.3f' % fid)"
   ]
  },
  {
   "cell_type": "markdown",
   "id": "14b7c7cf-5ae6-48e3-83b0-da525bdfded4",
   "metadata": {},
   "source": [
    "## Load microscopy images"
   ]
  },
  {
   "cell_type": "code",
   "execution_count": 5,
   "id": "3a48ed55-b212-497a-9564-4baf9331bde4",
   "metadata": {},
   "outputs": [],
   "source": [
    "from PIL import Image\n",
    "# list the images in augmented data\n",
    "perc_train = 0.8\n",
    "N = 1000\n",
    "\n",
    "dirpath = os.getcwd()\n",
    "data_path = os.path.join(dirpath, \"augmented_data\") # read some of the aumented data\n",
    "img_list = numpy.array([filename.split(\".jpg\")[0] for filename in os.listdir(data_path)])\n",
    "# split the data grouping by original image\n",
    "group_list = numpy.array([\"_\".join(filename.split(\"_\")[:2]) for filename in img_list])\n",
    "group_list_un = numpy.unique(group_list)\n",
    "num_train = numpy.round(len(group_list_un)*perc_train).astype('int')\n",
    "numpy.random.seed(seed=2)\n",
    "train_groups = numpy.random.choice(group_list_un, size=num_train, replace=False)\n",
    "train_idx =sum([list(numpy.where(group_list == val)[0]) for val in train_groups], [])\n",
    "test_idx = list(set(range(len(group_list))).difference(set(train_idx)))\n",
    "\n",
    "train_im_list = img_list[train_idx]\n",
    "test_im_list = img_list[test_idx]\n",
    "\n",
    "train_imgs = [numpy.asarray(Image.open(os.path.join(data_path, filename + \".jpg\"))) for filename in train_im_list]\n",
    "test_imgs = [numpy.asarray(Image.open(os.path.join(data_path, filename + \".jpg\"))) for filename in test_im_list]\n",
    "rng = numpy.random.default_rng(42)\n",
    "noise_imgs = rng.integers(0, 255, (N, 256, 256, 3)) # stack of different images"
   ]
  },
  {
   "cell_type": "code",
   "execution_count": 6,
   "id": "e6ac5187-8cce-4244-98d2-0ad56ec7ec46",
   "metadata": {},
   "outputs": [
    {
     "name": "stdout",
     "output_type": "stream",
     "text": [
      "Scaled (7680, 299, 299, 3) (1920, 299, 299, 3)\n"
     ]
    }
   ],
   "source": [
    "# resize images\n",
    "images_train = scale_images(train_imgs, (299,299,3))\n",
    "images_test = scale_images(test_imgs, (299,299,3))\n",
    "images_noise = scale_images(noise_imgs, (299,299,3))\n",
    "print('Scaled', images_train.shape, images_test.shape)\n",
    "# pre-process images\n",
    "images_train = preprocess_input(images_train)\n",
    "images_test = preprocess_input(images_test)"
   ]
  },
  {
   "cell_type": "markdown",
   "id": "8845309a-4830-4951-acde-1d0516643d38",
   "metadata": {},
   "source": [
    "### calculate fid betweeen EM images"
   ]
  },
  {
   "cell_type": "code",
   "execution_count": 8,
   "id": "91dfe95e-bbec-4b49-8ba0-ef831d20fe90",
   "metadata": {},
   "outputs": [
    {
     "name": "stdout",
     "output_type": "stream",
     "text": [
      "240/240 [==============================] - 263s 1s/step\n",
      "60/60 [==============================] - 65s 1s/step\n",
      "FID: 21.728\n"
     ]
    }
   ],
   "source": [
    "# calculate fid\n",
    "fid = calculate_fid(model, images_train, images_test)\n",
    "print('FID: %.3f' % fid)"
   ]
  },
  {
   "cell_type": "markdown",
   "id": "1cb00721-9be0-405f-ad29-0e75ab238154",
   "metadata": {},
   "source": [
    "### calculate fid betweeen EM images and Cifar10"
   ]
  },
  {
   "cell_type": "code",
   "execution_count": 9,
   "id": "e6eefd85-276f-4a67-9813-df44112d06f7",
   "metadata": {},
   "outputs": [
    {
     "name": "stdout",
     "output_type": "stream",
     "text": [
      "240/240 [==============================] - 276s 1s/step\n",
      "32/32 [==============================] - 78s 2s/step\n",
      "FID: 426.861\n"
     ]
    }
   ],
   "source": [
    "fid = calculate_fid(model, images_train, images2)\n",
    "print('FID: %.3f' % fid)"
   ]
  },
  {
   "cell_type": "markdown",
   "id": "b7300caa-e1c0-4c33-8a8c-b5d2f9c2a9ad",
   "metadata": {},
   "source": [
    "### calculate fid betweeen EM images and noise"
   ]
  },
  {
   "cell_type": "code",
   "execution_count": 10,
   "id": "c8146f79-91ca-4c6c-afb9-2142b91e0cf3",
   "metadata": {},
   "outputs": [
    {
     "name": "stdout",
     "output_type": "stream",
     "text": [
      "240/240 [==============================] - 256s 1s/step\n",
      "32/32 [==============================] - 38s 1s/step\n",
      "FID: 18124.270\n"
     ]
    }
   ],
   "source": [
    "fid = calculate_fid(model, images_train, images_noise)\n",
    "print('FID: %.3f' % fid)"
   ]
  },
  {
   "cell_type": "code",
   "execution_count": null,
   "id": "8c4d8625-21b7-46a7-b602-ec44130da6fa",
   "metadata": {},
   "outputs": [],
   "source": []
  }
 ],
 "metadata": {
  "kernelspec": {
   "display_name": "Python 3 (ipykernel)",
   "language": "python",
   "name": "python3"
  },
  "language_info": {
   "codemirror_mode": {
    "name": "ipython",
    "version": 3
   },
   "file_extension": ".py",
   "mimetype": "text/x-python",
   "name": "python",
   "nbconvert_exporter": "python",
   "pygments_lexer": "ipython3",
   "version": "3.8.20"
  }
 },
 "nbformat": 4,
 "nbformat_minor": 5
}
